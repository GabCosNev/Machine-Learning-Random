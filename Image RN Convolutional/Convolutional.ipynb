{
 "cells": [
  {
   "cell_type": "code",
   "execution_count": 7,
   "id": "dee003cb-4a36-48af-be3e-5a1bc4be9c06",
   "metadata": {},
   "outputs": [],
   "source": [
    "import tensorflow as tf \n",
    "from tensorflow.keras.preprocessing.image import ImageDataGenerator"
   ]
  },
  {
   "cell_type": "markdown",
   "id": "6f0788d3-ab9e-4356-93ec-7a15bab03940",
   "metadata": {},
   "source": [
    "## Part 1 Data Preprocessing"
   ]
  },
  {
   "cell_type": "markdown",
   "id": "ab37f3ce-e713-4596-8b6f-d26d89f753c4",
   "metadata": {},
   "source": [
    "## Preprocessing the Training Set"
   ]
  },
  {
   "cell_type": "code",
   "execution_count": 13,
   "id": "5a288af5-bfc1-4488-8386-c8177e53961f",
   "metadata": {},
   "outputs": [],
   "source": [
    "# Cria um gerador de imagens para dados de treinamento\n",
    "train_datagen = ImageDataGenerator(\n",
    "    rescale=1./255,         # Normaliza os valores dos pixels para o intervalo [0, 1]\n",
    "    shear_range=0.2,        # Aplica transformações de cisalhamento em até 20% nos eixos\n",
    "    zoom_range=0.2,         # Aplica zoom aleatório nas imagens (aumenta/diminui em até 20%)\n",
    "    horizontal_flip=True    # Permite espelhamento horizontal aleatório das imagens\n",
    ")\n",
    "\n",
    "# Cria um conjunto de dados de treinamento a partir de imagens organizadas em diretórios\n",
    "train_set = train_datagen.flow_from_directory(\n",
    "    'dataset/training_set/',  # Caminho para o diretório que contém as imagens de treinamento\n",
    "    target_size=(64, 64),     # Redimensiona todas as imagens para 64x64 pixels\n",
    "    batch_size=32,            # Número de imagens a serem processadas por vez (lote)\n",
    "    class_mode='binary'       # Define o tipo de classificação como binária (duas classes: 0 ou 1)\n",
    ")"
   ]
  },
  {
   "cell_type": "markdown",
   "id": "69aae7a5-5033-4a12-9bcd-fb504cfa8698",
   "metadata": {},
   "source": [
    "## Preprocessing the Test Set"
   ]
  },
  {
   "cell_type": "code",
   "execution_count": null,
   "id": "1bd6679d-b3e8-4060-bf25-9972c9d47f8a",
   "metadata": {},
   "outputs": [],
   "source": [
    "train_datagen = ImageDataGenerator(rescale = 1./255)\n",
    "\n",
    "train_set = train_datagen.flow_from_directory(\n",
    "    'dataset/test_set/',\n",
    "    target_size=(64, 64),     \n",
    "    batch_size=32,           \n",
    "    class_mode='binary'       \n",
    ")"
   ]
  }
 ],
 "metadata": {
  "kernelspec": {
   "display_name": "Python 3 (ipykernel)",
   "language": "python",
   "name": "python3"
  },
  "language_info": {
   "codemirror_mode": {
    "name": "ipython",
    "version": 3
   },
   "file_extension": ".py",
   "mimetype": "text/x-python",
   "name": "python",
   "nbconvert_exporter": "python",
   "pygments_lexer": "ipython3",
   "version": "3.12.4"
  }
 },
 "nbformat": 4,
 "nbformat_minor": 5
}
