{
 "cells": [
  {
   "cell_type": "code",
   "execution_count": 2,
   "id": "c5edd043-4d11-4811-a2a1-27fc6e25f0a1",
   "metadata": {},
   "outputs": [],
   "source": [
    "import numpy as np\n",
    "import matplotlib.pyplot as plt \n",
    "import pandas as pd\n",
    "import tensorflow as tf"
   ]
  },
  {
   "cell_type": "code",
   "execution_count": 3,
   "id": "b7cc7502-1027-46f4-b8b6-2f7c1026ad68",
   "metadata": {},
   "outputs": [],
   "source": [
    "df = pd.read_csv('Churn_Modelling.csv')"
   ]
  },
  {
   "cell_type": "code",
   "execution_count": 4,
   "id": "ebcce6a4-ecda-402d-a6ef-258cdacbd788",
   "metadata": {},
   "outputs": [
    {
     "data": {
      "text/plain": [
       "RowNumber          0\n",
       "CustomerId         0\n",
       "Surname            0\n",
       "CreditScore        0\n",
       "Geography          0\n",
       "Gender             0\n",
       "Age                0\n",
       "Tenure             0\n",
       "Balance            0\n",
       "NumOfProducts      0\n",
       "HasCrCard          0\n",
       "IsActiveMember     0\n",
       "EstimatedSalary    0\n",
       "Exited             0\n",
       "dtype: int64"
      ]
     },
     "execution_count": 4,
     "metadata": {},
     "output_type": "execute_result"
    }
   ],
   "source": [
    "df.isnull().sum()"
   ]
  },
  {
   "cell_type": "code",
   "execution_count": 5,
   "id": "a313eae3-aaea-472e-944e-bf2cda7b0240",
   "metadata": {},
   "outputs": [
    {
     "data": {
      "text/plain": [
       "RowNumber          10000\n",
       "CustomerId         10000\n",
       "Surname             2932\n",
       "CreditScore          460\n",
       "Geography              3\n",
       "Gender                 2\n",
       "Age                   70\n",
       "Tenure                11\n",
       "Balance             6382\n",
       "NumOfProducts          4\n",
       "HasCrCard              2\n",
       "IsActiveMember         2\n",
       "EstimatedSalary     9999\n",
       "Exited                 2\n",
       "dtype: int64"
      ]
     },
     "execution_count": 5,
     "metadata": {},
     "output_type": "execute_result"
    }
   ],
   "source": [
    "df.nunique()"
   ]
  },
  {
   "cell_type": "code",
   "execution_count": 6,
   "id": "dc3ba72c-4c54-4e7d-9195-65c18940c60f",
   "metadata": {},
   "outputs": [
    {
     "data": {
      "text/plain": [
       "array([[619, 'France', 'Female', ..., 1, 1, 101348.88],\n",
       "       [608, 'Spain', 'Female', ..., 0, 1, 112542.58],\n",
       "       [502, 'France', 'Female', ..., 1, 0, 113931.57],\n",
       "       ...,\n",
       "       [709, 'France', 'Female', ..., 0, 1, 42085.58],\n",
       "       [772, 'Germany', 'Male', ..., 1, 0, 92888.52],\n",
       "       [792, 'France', 'Female', ..., 1, 0, 38190.78]], dtype=object)"
      ]
     },
     "execution_count": 6,
     "metadata": {},
     "output_type": "execute_result"
    }
   ],
   "source": [
    "X = df.iloc[:, 3:-1].values\n",
    "y = df.iloc[:, -1].values\n",
    "X"
   ]
  },
  {
   "cell_type": "code",
   "execution_count": 7,
   "id": "4b8cf355-652e-4c45-a25b-1911f9ec32af",
   "metadata": {},
   "outputs": [
    {
     "data": {
      "text/plain": [
       "(array([0, 1], dtype=int64), array([7963, 2037], dtype=int64))"
      ]
     },
     "execution_count": 7,
     "metadata": {},
     "output_type": "execute_result"
    }
   ],
   "source": [
    "np.unique(y, return_counts=True)"
   ]
  },
  {
   "cell_type": "code",
   "execution_count": 8,
   "id": "7598540d-cf47-445c-961a-da59a0a98655",
   "metadata": {},
   "outputs": [
    {
     "data": {
      "text/plain": [
       "array([[619, 'France', 0, ..., 1, 1, 101348.88],\n",
       "       [608, 'Spain', 0, ..., 0, 1, 112542.58],\n",
       "       [502, 'France', 0, ..., 1, 0, 113931.57],\n",
       "       ...,\n",
       "       [709, 'France', 0, ..., 0, 1, 42085.58],\n",
       "       [772, 'Germany', 1, ..., 1, 0, 92888.52],\n",
       "       [792, 'France', 0, ..., 1, 0, 38190.78]], dtype=object)"
      ]
     },
     "execution_count": 8,
     "metadata": {},
     "output_type": "execute_result"
    }
   ],
   "source": [
    "from sklearn.preprocessing import LabelEncoder, StandardScaler, OneHotEncoder\n",
    "le = LabelEncoder()\n",
    "X[:, 2] = le.fit_transform(X[:, 2])\n",
    "X"
   ]
  },
  {
   "cell_type": "code",
   "execution_count": 9,
   "id": "755330d9-d338-444c-8ba4-91d1f30fe4df",
   "metadata": {},
   "outputs": [],
   "source": [
    "from sklearn.compose import ColumnTransformer\n",
    "                                # tipo      #coluna    #preserva as outras colunas\n",
    "ct = ColumnTransformer(transformers=[('encoder', OneHotEncoder(), [1])], remainder='passthrough')\n",
    "X = ct.fit_transform(X) # Transformar em um matriz, a transformação vai primeira coluna"
   ]
  },
  {
   "cell_type": "code",
   "execution_count": 10,
   "id": "d8544a83-aaa1-4c79-ada3-99ee0e4c1601",
   "metadata": {},
   "outputs": [],
   "source": [
    "from imblearn.over_sampling import SMOTE\n",
    "st = SMOTE(sampling_strategy='minority')\n",
    "X, y = st.fit_resample(X, y)"
   ]
  },
  {
   "cell_type": "code",
   "execution_count": 11,
   "id": "90c80c58-f1f9-48ee-9b20-9dc992917f85",
   "metadata": {},
   "outputs": [],
   "source": [
    "from sklearn.model_selection import train_test_split\n",
    "X_train, X_test, y_train, y_test = train_test_split(X, y, test_size= 0.2, random_state=0)"
   ]
  },
  {
   "cell_type": "code",
   "execution_count": 12,
   "id": "d28e6235-3106-498a-acd6-71c31ec5372f",
   "metadata": {},
   "outputs": [
    {
     "data": {
      "text/html": [
       "<div>\n",
       "<style scoped>\n",
       "    .dataframe tbody tr th:only-of-type {\n",
       "        vertical-align: middle;\n",
       "    }\n",
       "\n",
       "    .dataframe tbody tr th {\n",
       "        vertical-align: top;\n",
       "    }\n",
       "\n",
       "    .dataframe thead th {\n",
       "        text-align: right;\n",
       "    }\n",
       "</style>\n",
       "<table border=\"1\" class=\"dataframe\">\n",
       "  <thead>\n",
       "    <tr style=\"text-align: right;\">\n",
       "      <th></th>\n",
       "      <th>0</th>\n",
       "      <th>1</th>\n",
       "      <th>2</th>\n",
       "      <th>3</th>\n",
       "      <th>4</th>\n",
       "      <th>5</th>\n",
       "      <th>6</th>\n",
       "      <th>7</th>\n",
       "      <th>8</th>\n",
       "      <th>9</th>\n",
       "      <th>10</th>\n",
       "      <th>11</th>\n",
       "    </tr>\n",
       "  </thead>\n",
       "  <tbody>\n",
       "    <tr>\n",
       "      <th>0</th>\n",
       "      <td>0.127229</td>\n",
       "      <td>0.872771</td>\n",
       "      <td>0.000000</td>\n",
       "      <td>715.598076</td>\n",
       "      <td>0.127229</td>\n",
       "      <td>43.544580</td>\n",
       "      <td>8.491084</td>\n",
       "      <td>148833.236041</td>\n",
       "      <td>1.872771</td>\n",
       "      <td>1.000000</td>\n",
       "      <td>0.127229</td>\n",
       "      <td>42091.050547</td>\n",
       "    </tr>\n",
       "    <tr>\n",
       "      <th>1</th>\n",
       "      <td>0.000000</td>\n",
       "      <td>1.000000</td>\n",
       "      <td>0.000000</td>\n",
       "      <td>651.000000</td>\n",
       "      <td>1.000000</td>\n",
       "      <td>26.000000</td>\n",
       "      <td>5.000000</td>\n",
       "      <td>147037.320000</td>\n",
       "      <td>1.000000</td>\n",
       "      <td>0.000000</td>\n",
       "      <td>0.000000</td>\n",
       "      <td>141763.260000</td>\n",
       "    </tr>\n",
       "    <tr>\n",
       "      <th>2</th>\n",
       "      <td>0.868511</td>\n",
       "      <td>0.131489</td>\n",
       "      <td>0.000000</td>\n",
       "      <td>579.024700</td>\n",
       "      <td>0.000000</td>\n",
       "      <td>58.449786</td>\n",
       "      <td>2.868511</td>\n",
       "      <td>75824.682000</td>\n",
       "      <td>1.000000</td>\n",
       "      <td>0.000000</td>\n",
       "      <td>0.000000</td>\n",
       "      <td>17019.004303</td>\n",
       "    </tr>\n",
       "    <tr>\n",
       "      <th>3</th>\n",
       "      <td>1.000000</td>\n",
       "      <td>0.000000</td>\n",
       "      <td>0.000000</td>\n",
       "      <td>432.000000</td>\n",
       "      <td>1.000000</td>\n",
       "      <td>42.000000</td>\n",
       "      <td>9.000000</td>\n",
       "      <td>152603.450000</td>\n",
       "      <td>1.000000</td>\n",
       "      <td>1.000000</td>\n",
       "      <td>0.000000</td>\n",
       "      <td>110265.240000</td>\n",
       "    </tr>\n",
       "    <tr>\n",
       "      <th>4</th>\n",
       "      <td>0.045186</td>\n",
       "      <td>0.000000</td>\n",
       "      <td>0.954814</td>\n",
       "      <td>838.793983</td>\n",
       "      <td>0.954814</td>\n",
       "      <td>47.728887</td>\n",
       "      <td>2.361484</td>\n",
       "      <td>0.000000</td>\n",
       "      <td>1.045186</td>\n",
       "      <td>0.954814</td>\n",
       "      <td>0.000000</td>\n",
       "      <td>169447.703449</td>\n",
       "    </tr>\n",
       "  </tbody>\n",
       "</table>\n",
       "</div>"
      ],
      "text/plain": [
       "         0         1         2           3         4          5         6   \\\n",
       "0  0.127229  0.872771  0.000000  715.598076  0.127229  43.544580  8.491084   \n",
       "1  0.000000  1.000000  0.000000  651.000000  1.000000  26.000000  5.000000   \n",
       "2  0.868511  0.131489  0.000000  579.024700  0.000000  58.449786  2.868511   \n",
       "3  1.000000  0.000000  0.000000  432.000000  1.000000  42.000000  9.000000   \n",
       "4  0.045186  0.000000  0.954814  838.793983  0.954814  47.728887  2.361484   \n",
       "\n",
       "              7         8         9         10             11  \n",
       "0  148833.236041  1.872771  1.000000  0.127229   42091.050547  \n",
       "1  147037.320000  1.000000  0.000000  0.000000  141763.260000  \n",
       "2   75824.682000  1.000000  0.000000  0.000000   17019.004303  \n",
       "3  152603.450000  1.000000  1.000000  0.000000  110265.240000  \n",
       "4       0.000000  1.045186  0.954814  0.000000  169447.703449  "
      ]
     },
     "execution_count": 12,
     "metadata": {},
     "output_type": "execute_result"
    }
   ],
   "source": [
    "pd.DataFrame(X_train).head()"
   ]
  },
  {
   "cell_type": "code",
   "execution_count": 13,
   "id": "22979c27-1145-4b3f-904a-31ec9030499a",
   "metadata": {},
   "outputs": [],
   "source": [
    "sc = StandardScaler()\n",
    "X_train[:,[3, 5, 6, 7, 8, 11]] = sc.fit_transform(X_train[:,[3, 5, 6, 7, 8, 11]])\n",
    "X_test[:,[3, 5, 6, 7, 8, 11]] = sc.transform(X_test[:,[3, 5, 6, 7, 8, 11]])"
   ]
  },
  {
   "cell_type": "code",
   "execution_count": 14,
   "id": "63b4d830-4bf9-43b5-964a-9721f0b3cc7f",
   "metadata": {},
   "outputs": [
    {
     "data": {
      "text/html": [
       "<div>\n",
       "<style scoped>\n",
       "    .dataframe tbody tr th:only-of-type {\n",
       "        vertical-align: middle;\n",
       "    }\n",
       "\n",
       "    .dataframe tbody tr th {\n",
       "        vertical-align: top;\n",
       "    }\n",
       "\n",
       "    .dataframe thead th {\n",
       "        text-align: right;\n",
       "    }\n",
       "</style>\n",
       "<table border=\"1\" class=\"dataframe\">\n",
       "  <thead>\n",
       "    <tr style=\"text-align: right;\">\n",
       "      <th></th>\n",
       "      <th>0</th>\n",
       "      <th>1</th>\n",
       "      <th>2</th>\n",
       "      <th>3</th>\n",
       "      <th>4</th>\n",
       "      <th>5</th>\n",
       "      <th>6</th>\n",
       "      <th>7</th>\n",
       "      <th>8</th>\n",
       "      <th>9</th>\n",
       "      <th>10</th>\n",
       "      <th>11</th>\n",
       "    </tr>\n",
       "  </thead>\n",
       "  <tbody>\n",
       "    <tr>\n",
       "      <th>0</th>\n",
       "      <td>0.127229</td>\n",
       "      <td>0.872771</td>\n",
       "      <td>0.000000</td>\n",
       "      <td>0.728983</td>\n",
       "      <td>0.127229</td>\n",
       "      <td>0.249638</td>\n",
       "      <td>1.289870</td>\n",
       "      <td>1.102526</td>\n",
       "      <td>0.602647</td>\n",
       "      <td>1.000000</td>\n",
       "      <td>0.127229</td>\n",
       "      <td>-1.002518</td>\n",
       "    </tr>\n",
       "    <tr>\n",
       "      <th>1</th>\n",
       "      <td>0.000000</td>\n",
       "      <td>1.000000</td>\n",
       "      <td>0.000000</td>\n",
       "      <td>0.026463</td>\n",
       "      <td>1.000000</td>\n",
       "      <td>-1.510191</td>\n",
       "      <td>0.004218</td>\n",
       "      <td>1.073080</td>\n",
       "      <td>-0.828253</td>\n",
       "      <td>0.000000</td>\n",
       "      <td>0.000000</td>\n",
       "      <td>0.716510</td>\n",
       "    </tr>\n",
       "    <tr>\n",
       "      <th>2</th>\n",
       "      <td>0.868511</td>\n",
       "      <td>0.131489</td>\n",
       "      <td>0.000000</td>\n",
       "      <td>-0.756287</td>\n",
       "      <td>0.000000</td>\n",
       "      <td>1.744722</td>\n",
       "      <td>-0.780740</td>\n",
       "      <td>-0.094522</td>\n",
       "      <td>-0.828253</td>\n",
       "      <td>0.000000</td>\n",
       "      <td>0.000000</td>\n",
       "      <td>-1.434931</td>\n",
       "    </tr>\n",
       "    <tr>\n",
       "      <th>3</th>\n",
       "      <td>1.000000</td>\n",
       "      <td>0.000000</td>\n",
       "      <td>0.000000</td>\n",
       "      <td>-2.355218</td>\n",
       "      <td>1.000000</td>\n",
       "      <td>0.094708</td>\n",
       "      <td>1.477287</td>\n",
       "      <td>1.164343</td>\n",
       "      <td>-0.828253</td>\n",
       "      <td>1.000000</td>\n",
       "      <td>0.000000</td>\n",
       "      <td>0.173270</td>\n",
       "    </tr>\n",
       "    <tr>\n",
       "      <th>4</th>\n",
       "      <td>0.045186</td>\n",
       "      <td>0.000000</td>\n",
       "      <td>0.954814</td>\n",
       "      <td>2.068770</td>\n",
       "      <td>0.954814</td>\n",
       "      <td>0.669350</td>\n",
       "      <td>-0.967461</td>\n",
       "      <td>-1.337744</td>\n",
       "      <td>-0.754171</td>\n",
       "      <td>0.954814</td>\n",
       "      <td>0.000000</td>\n",
       "      <td>1.193979</td>\n",
       "    </tr>\n",
       "  </tbody>\n",
       "</table>\n",
       "</div>"
      ],
      "text/plain": [
       "         0         1         2         3         4         5         6   \\\n",
       "0  0.127229  0.872771  0.000000  0.728983  0.127229  0.249638  1.289870   \n",
       "1  0.000000  1.000000  0.000000  0.026463  1.000000 -1.510191  0.004218   \n",
       "2  0.868511  0.131489  0.000000 -0.756287  0.000000  1.744722 -0.780740   \n",
       "3  1.000000  0.000000  0.000000 -2.355218  1.000000  0.094708  1.477287   \n",
       "4  0.045186  0.000000  0.954814  2.068770  0.954814  0.669350 -0.967461   \n",
       "\n",
       "         7         8         9         10        11  \n",
       "0  1.102526  0.602647  1.000000  0.127229 -1.002518  \n",
       "1  1.073080 -0.828253  0.000000  0.000000  0.716510  \n",
       "2 -0.094522 -0.828253  0.000000  0.000000 -1.434931  \n",
       "3  1.164343 -0.828253  1.000000  0.000000  0.173270  \n",
       "4 -1.337744 -0.754171  0.954814  0.000000  1.193979  "
      ]
     },
     "execution_count": 14,
     "metadata": {},
     "output_type": "execute_result"
    }
   ],
   "source": [
    "pd.DataFrame(X_train).head()"
   ]
  },
  {
   "cell_type": "code",
   "execution_count": 15,
   "id": "6d1675da-4273-49e2-ade2-e910841ec773",
   "metadata": {},
   "outputs": [
    {
     "data": {
      "text/html": [
       "<div>\n",
       "<style scoped>\n",
       "    .dataframe tbody tr th:only-of-type {\n",
       "        vertical-align: middle;\n",
       "    }\n",
       "\n",
       "    .dataframe tbody tr th {\n",
       "        vertical-align: top;\n",
       "    }\n",
       "\n",
       "    .dataframe thead th {\n",
       "        text-align: right;\n",
       "    }\n",
       "</style>\n",
       "<table border=\"1\" class=\"dataframe\">\n",
       "  <thead>\n",
       "    <tr style=\"text-align: right;\">\n",
       "      <th></th>\n",
       "      <th>0</th>\n",
       "      <th>1</th>\n",
       "      <th>2</th>\n",
       "      <th>3</th>\n",
       "      <th>4</th>\n",
       "      <th>5</th>\n",
       "      <th>6</th>\n",
       "      <th>7</th>\n",
       "      <th>8</th>\n",
       "      <th>9</th>\n",
       "      <th>10</th>\n",
       "      <th>11</th>\n",
       "    </tr>\n",
       "  </thead>\n",
       "  <tbody>\n",
       "    <tr>\n",
       "      <th>0</th>\n",
       "      <td>1.000000</td>\n",
       "      <td>0.0</td>\n",
       "      <td>0.000000</td>\n",
       "      <td>-0.322386</td>\n",
       "      <td>0.858147</td>\n",
       "      <td>1.429965</td>\n",
       "      <td>-1.468851</td>\n",
       "      <td>-1.337744</td>\n",
       "      <td>-0.363119</td>\n",
       "      <td>0.858147</td>\n",
       "      <td>0.141853</td>\n",
       "      <td>-0.511021</td>\n",
       "    </tr>\n",
       "    <tr>\n",
       "      <th>1</th>\n",
       "      <td>1.000000</td>\n",
       "      <td>0.0</td>\n",
       "      <td>0.000000</td>\n",
       "      <td>-2.571804</td>\n",
       "      <td>0.995262</td>\n",
       "      <td>-0.794267</td>\n",
       "      <td>0.363762</td>\n",
       "      <td>0.724618</td>\n",
       "      <td>-0.828253</td>\n",
       "      <td>0.004738</td>\n",
       "      <td>0.000000</td>\n",
       "      <td>-0.584037</td>\n",
       "    </tr>\n",
       "    <tr>\n",
       "      <th>2</th>\n",
       "      <td>0.000000</td>\n",
       "      <td>1.0</td>\n",
       "      <td>0.000000</td>\n",
       "      <td>0.156966</td>\n",
       "      <td>1.000000</td>\n",
       "      <td>0.796851</td>\n",
       "      <td>0.740752</td>\n",
       "      <td>0.566662</td>\n",
       "      <td>2.450727</td>\n",
       "      <td>1.000000</td>\n",
       "      <td>1.000000</td>\n",
       "      <td>-0.273535</td>\n",
       "    </tr>\n",
       "    <tr>\n",
       "      <th>3</th>\n",
       "      <td>0.401513</td>\n",
       "      <td>0.0</td>\n",
       "      <td>0.598487</td>\n",
       "      <td>0.490887</td>\n",
       "      <td>0.598487</td>\n",
       "      <td>0.456417</td>\n",
       "      <td>0.375271</td>\n",
       "      <td>-1.337744</td>\n",
       "      <td>-0.169976</td>\n",
       "      <td>0.401513</td>\n",
       "      <td>0.401513</td>\n",
       "      <td>-0.261089</td>\n",
       "    </tr>\n",
       "    <tr>\n",
       "      <th>4</th>\n",
       "      <td>1.000000</td>\n",
       "      <td>0.0</td>\n",
       "      <td>0.000000</td>\n",
       "      <td>0.144332</td>\n",
       "      <td>0.208399</td>\n",
       "      <td>0.495932</td>\n",
       "      <td>-0.210556</td>\n",
       "      <td>-1.337744</td>\n",
       "      <td>1.767393</td>\n",
       "      <td>1.000000</td>\n",
       "      <td>0.208399</td>\n",
       "      <td>-0.117770</td>\n",
       "    </tr>\n",
       "  </tbody>\n",
       "</table>\n",
       "</div>"
      ],
      "text/plain": [
       "         0    1         2         3         4         5         6         7   \\\n",
       "0  1.000000  0.0  0.000000 -0.322386  0.858147  1.429965 -1.468851 -1.337744   \n",
       "1  1.000000  0.0  0.000000 -2.571804  0.995262 -0.794267  0.363762  0.724618   \n",
       "2  0.000000  1.0  0.000000  0.156966  1.000000  0.796851  0.740752  0.566662   \n",
       "3  0.401513  0.0  0.598487  0.490887  0.598487  0.456417  0.375271 -1.337744   \n",
       "4  1.000000  0.0  0.000000  0.144332  0.208399  0.495932 -0.210556 -1.337744   \n",
       "\n",
       "         8         9         10        11  \n",
       "0 -0.363119  0.858147  0.141853 -0.511021  \n",
       "1 -0.828253  0.004738  0.000000 -0.584037  \n",
       "2  2.450727  1.000000  1.000000 -0.273535  \n",
       "3 -0.169976  0.401513  0.401513 -0.261089  \n",
       "4  1.767393  1.000000  0.208399 -0.117770  "
      ]
     },
     "execution_count": 15,
     "metadata": {},
     "output_type": "execute_result"
    }
   ],
   "source": [
    "pd.DataFrame(X_test).head()"
   ]
  },
  {
   "cell_type": "code",
   "execution_count": 16,
   "id": "0ded3402-77ee-4384-93e7-486835560dbe",
   "metadata": {},
   "outputs": [],
   "source": [
    "# Criando um modelo sequencial\n",
    "ann = tf.keras.models.Sequential()"
   ]
  },
  {
   "cell_type": "code",
   "execution_count": 17,
   "id": "5b4efb76-a507-4b2a-9094-77b756c44c64",
   "metadata": {},
   "outputs": [],
   "source": [
    "# Adicionando a primeira camada oculta\n",
    "# - 'units=6': 6 neurônios na camada\n",
    "# - 'activation=\"relu\"': Função de ativação ReLU para introduzir não-linearidade\n",
    "# Esta camada terá como entrada o número de features (dimensão das variáveis independentes)\n",
    "ann.add(tf.keras.layers.Dense(units=6, activation='relu'))\n",
    "ann.add(tf.keras.layers.Dense(units=6, activation='relu'))"
   ]
  },
  {
   "cell_type": "code",
   "execution_count": 18,
   "id": "b1dd4b32-f129-46cd-a027-88203ce8e54f",
   "metadata": {},
   "outputs": [],
   "source": [
    "# Adicionando a camada de saída\n",
    "# - 'units=1': Um único neurônio porque o problema é de classificação binária\n",
    "# - 'activation=\"sigmoid\"': Retorna um valor entre 0 e 1 (probabilidade)\n",
    "ann.add(tf.keras.layers.Dense(units=1, activation='sigmoid'))"
   ]
  },
  {
   "cell_type": "code",
   "execution_count": 19,
   "id": "e854807c-2883-4cb0-ae6a-b32e5cde990b",
   "metadata": {},
   "outputs": [],
   "source": [
    "# Compilando o modelo com o otimizador 'adam', função de perda 'binary_crossentropy' e a métrica de 'accuracy'\n",
    "ann.compile(\n",
    "    optimizer = 'adam',  # O otimizador 'adam' é usado para ajustar os pesos do modelo de forma eficiente, considerando gradientes e momento.\n",
    "    loss = 'binary_crossentropy',  # A função de perda 'binary_crossentropy' é adequada para problemas de classificação binária (dois rótulos: 0 ou 1).\n",
    "    metrics = ['accuracy']  # 'accuracy' será monitorada durante o treinamento, calculando a proporção de previsões corretas.\n",
    ")"
   ]
  },
  {
   "cell_type": "code",
   "execution_count": 20,
   "id": "20aa0d3c-997e-4c23-a334-1d0a86362824",
   "metadata": {},
   "outputs": [],
   "source": [
    "X_train = X_train.astype('float32')\n",
    "X_test = X_test.astype('float32')"
   ]
  },
  {
   "cell_type": "code",
   "execution_count": 21,
   "id": "46beea26-144e-459f-ae7f-56bdc2017de3",
   "metadata": {},
   "outputs": [
    {
     "name": "stdout",
     "output_type": "stream",
     "text": [
      "Epoch 1/70\n",
      "\u001b[1m399/399\u001b[0m \u001b[32m━━━━━━━━━━━━━━━━━━━━\u001b[0m\u001b[37m\u001b[0m \u001b[1m1s\u001b[0m 567us/step - accuracy: 0.5464 - loss: 0.6952\n",
      "Epoch 2/70\n",
      "\u001b[1m399/399\u001b[0m \u001b[32m━━━━━━━━━━━━━━━━━━━━\u001b[0m\u001b[37m\u001b[0m \u001b[1m0s\u001b[0m 526us/step - accuracy: 0.7058 - loss: 0.5934\n",
      "Epoch 3/70\n",
      "\u001b[1m399/399\u001b[0m \u001b[32m━━━━━━━━━━━━━━━━━━━━\u001b[0m\u001b[37m\u001b[0m \u001b[1m0s\u001b[0m 519us/step - accuracy: 0.7326 - loss: 0.5556\n",
      "Epoch 4/70\n",
      "\u001b[1m399/399\u001b[0m \u001b[32m━━━━━━━━━━━━━━━━━━━━\u001b[0m\u001b[37m\u001b[0m \u001b[1m0s\u001b[0m 506us/step - accuracy: 0.7300 - loss: 0.5452\n",
      "Epoch 5/70\n",
      "\u001b[1m399/399\u001b[0m \u001b[32m━━━━━━━━━━━━━━━━━━━━\u001b[0m\u001b[37m\u001b[0m \u001b[1m0s\u001b[0m 538us/step - accuracy: 0.7363 - loss: 0.5364\n",
      "Epoch 6/70\n",
      "\u001b[1m399/399\u001b[0m \u001b[32m━━━━━━━━━━━━━━━━━━━━\u001b[0m\u001b[37m\u001b[0m \u001b[1m0s\u001b[0m 488us/step - accuracy: 0.7316 - loss: 0.5310\n",
      "Epoch 7/70\n",
      "\u001b[1m399/399\u001b[0m \u001b[32m━━━━━━━━━━━━━━━━━━━━\u001b[0m\u001b[37m\u001b[0m \u001b[1m0s\u001b[0m 495us/step - accuracy: 0.7458 - loss: 0.5204\n",
      "Epoch 8/70\n",
      "\u001b[1m399/399\u001b[0m \u001b[32m━━━━━━━━━━━━━━━━━━━━\u001b[0m\u001b[37m\u001b[0m \u001b[1m0s\u001b[0m 487us/step - accuracy: 0.7459 - loss: 0.5161\n",
      "Epoch 9/70\n",
      "\u001b[1m399/399\u001b[0m \u001b[32m━━━━━━━━━━━━━━━━━━━━\u001b[0m\u001b[37m\u001b[0m \u001b[1m0s\u001b[0m 519us/step - accuracy: 0.7530 - loss: 0.5067\n",
      "Epoch 10/70\n",
      "\u001b[1m399/399\u001b[0m \u001b[32m━━━━━━━━━━━━━━━━━━━━\u001b[0m\u001b[37m\u001b[0m \u001b[1m0s\u001b[0m 506us/step - accuracy: 0.7649 - loss: 0.4949\n",
      "Epoch 11/70\n",
      "\u001b[1m399/399\u001b[0m \u001b[32m━━━━━━━━━━━━━━━━━━━━\u001b[0m\u001b[37m\u001b[0m \u001b[1m0s\u001b[0m 469us/step - accuracy: 0.7776 - loss: 0.4835\n",
      "Epoch 12/70\n",
      "\u001b[1m399/399\u001b[0m \u001b[32m━━━━━━━━━━━━━━━━━━━━\u001b[0m\u001b[37m\u001b[0m \u001b[1m0s\u001b[0m 463us/step - accuracy: 0.7793 - loss: 0.4732\n",
      "Epoch 13/70\n",
      "\u001b[1m399/399\u001b[0m \u001b[32m━━━━━━━━━━━━━━━━━━━━\u001b[0m\u001b[37m\u001b[0m \u001b[1m0s\u001b[0m 463us/step - accuracy: 0.7922 - loss: 0.4618\n",
      "Epoch 14/70\n",
      "\u001b[1m399/399\u001b[0m \u001b[32m━━━━━━━━━━━━━━━━━━━━\u001b[0m\u001b[37m\u001b[0m \u001b[1m0s\u001b[0m 490us/step - accuracy: 0.7919 - loss: 0.4492\n",
      "Epoch 15/70\n",
      "\u001b[1m399/399\u001b[0m \u001b[32m━━━━━━━━━━━━━━━━━━━━\u001b[0m\u001b[37m\u001b[0m \u001b[1m0s\u001b[0m 473us/step - accuracy: 0.7980 - loss: 0.4428\n",
      "Epoch 16/70\n",
      "\u001b[1m399/399\u001b[0m \u001b[32m━━━━━━━━━━━━━━━━━━━━\u001b[0m\u001b[37m\u001b[0m \u001b[1m0s\u001b[0m 468us/step - accuracy: 0.7949 - loss: 0.4404\n",
      "Epoch 17/70\n",
      "\u001b[1m399/399\u001b[0m \u001b[32m━━━━━━━━━━━━━━━━━━━━\u001b[0m\u001b[37m\u001b[0m \u001b[1m0s\u001b[0m 480us/step - accuracy: 0.8106 - loss: 0.4252\n",
      "Epoch 18/70\n",
      "\u001b[1m399/399\u001b[0m \u001b[32m━━━━━━━━━━━━━━━━━━━━\u001b[0m\u001b[37m\u001b[0m \u001b[1m0s\u001b[0m 484us/step - accuracy: 0.8019 - loss: 0.4266\n",
      "Epoch 19/70\n",
      "\u001b[1m399/399\u001b[0m \u001b[32m━━━━━━━━━━━━━━━━━━━━\u001b[0m\u001b[37m\u001b[0m \u001b[1m0s\u001b[0m 464us/step - accuracy: 0.8064 - loss: 0.4196\n",
      "Epoch 20/70\n",
      "\u001b[1m399/399\u001b[0m \u001b[32m━━━━━━━━━━━━━━━━━━━━\u001b[0m\u001b[37m\u001b[0m \u001b[1m0s\u001b[0m 470us/step - accuracy: 0.8145 - loss: 0.4058\n",
      "Epoch 21/70\n",
      "\u001b[1m399/399\u001b[0m \u001b[32m━━━━━━━━━━━━━━━━━━━━\u001b[0m\u001b[37m\u001b[0m \u001b[1m0s\u001b[0m 497us/step - accuracy: 0.8214 - loss: 0.3943\n",
      "Epoch 22/70\n",
      "\u001b[1m399/399\u001b[0m \u001b[32m━━━━━━━━━━━━━━━━━━━━\u001b[0m\u001b[37m\u001b[0m \u001b[1m0s\u001b[0m 469us/step - accuracy: 0.8292 - loss: 0.3854\n",
      "Epoch 23/70\n",
      "\u001b[1m399/399\u001b[0m \u001b[32m━━━━━━━━━━━━━━━━━━━━\u001b[0m\u001b[37m\u001b[0m \u001b[1m0s\u001b[0m 488us/step - accuracy: 0.8249 - loss: 0.3895\n",
      "Epoch 24/70\n",
      "\u001b[1m399/399\u001b[0m \u001b[32m━━━━━━━━━━━━━━━━━━━━\u001b[0m\u001b[37m\u001b[0m \u001b[1m0s\u001b[0m 468us/step - accuracy: 0.8296 - loss: 0.3819\n",
      "Epoch 25/70\n",
      "\u001b[1m399/399\u001b[0m \u001b[32m━━━━━━━━━━━━━━━━━━━━\u001b[0m\u001b[37m\u001b[0m \u001b[1m0s\u001b[0m 469us/step - accuracy: 0.8334 - loss: 0.3670\n",
      "Epoch 26/70\n",
      "\u001b[1m399/399\u001b[0m \u001b[32m━━━━━━━━━━━━━━━━━━━━\u001b[0m\u001b[37m\u001b[0m \u001b[1m0s\u001b[0m 453us/step - accuracy: 0.8390 - loss: 0.3591\n",
      "Epoch 27/70\n",
      "\u001b[1m399/399\u001b[0m \u001b[32m━━━━━━━━━━━━━━━━━━━━\u001b[0m\u001b[37m\u001b[0m \u001b[1m0s\u001b[0m 477us/step - accuracy: 0.8399 - loss: 0.3565\n",
      "Epoch 28/70\n",
      "\u001b[1m399/399\u001b[0m \u001b[32m━━━━━━━━━━━━━━━━━━━━\u001b[0m\u001b[37m\u001b[0m \u001b[1m0s\u001b[0m 472us/step - accuracy: 0.8469 - loss: 0.3493\n",
      "Epoch 29/70\n",
      "\u001b[1m399/399\u001b[0m \u001b[32m━━━━━━━━━━━━━━━━━━━━\u001b[0m\u001b[37m\u001b[0m \u001b[1m0s\u001b[0m 485us/step - accuracy: 0.8437 - loss: 0.3585\n",
      "Epoch 30/70\n",
      "\u001b[1m399/399\u001b[0m \u001b[32m━━━━━━━━━━━━━━━━━━━━\u001b[0m\u001b[37m\u001b[0m \u001b[1m0s\u001b[0m 454us/step - accuracy: 0.8458 - loss: 0.3502\n",
      "Epoch 31/70\n",
      "\u001b[1m399/399\u001b[0m \u001b[32m━━━━━━━━━━━━━━━━━━━━\u001b[0m\u001b[37m\u001b[0m \u001b[1m0s\u001b[0m 451us/step - accuracy: 0.8539 - loss: 0.3400\n",
      "Epoch 32/70\n",
      "\u001b[1m399/399\u001b[0m \u001b[32m━━━━━━━━━━━━━━━━━━━━\u001b[0m\u001b[37m\u001b[0m \u001b[1m0s\u001b[0m 459us/step - accuracy: 0.8526 - loss: 0.3400\n",
      "Epoch 33/70\n",
      "\u001b[1m399/399\u001b[0m \u001b[32m━━━━━━━━━━━━━━━━━━━━\u001b[0m\u001b[37m\u001b[0m \u001b[1m0s\u001b[0m 462us/step - accuracy: 0.8499 - loss: 0.3453\n",
      "Epoch 34/70\n",
      "\u001b[1m399/399\u001b[0m \u001b[32m━━━━━━━━━━━━━━━━━━━━\u001b[0m\u001b[37m\u001b[0m \u001b[1m0s\u001b[0m 451us/step - accuracy: 0.8509 - loss: 0.3426\n",
      "Epoch 35/70\n",
      "\u001b[1m399/399\u001b[0m \u001b[32m━━━━━━━━━━━━━━━━━━━━\u001b[0m\u001b[37m\u001b[0m \u001b[1m0s\u001b[0m 483us/step - accuracy: 0.8561 - loss: 0.3367\n",
      "Epoch 36/70\n",
      "\u001b[1m399/399\u001b[0m \u001b[32m━━━━━━━━━━━━━━━━━━━━\u001b[0m\u001b[37m\u001b[0m \u001b[1m0s\u001b[0m 459us/step - accuracy: 0.8550 - loss: 0.3441\n",
      "Epoch 37/70\n",
      "\u001b[1m399/399\u001b[0m \u001b[32m━━━━━━━━━━━━━━━━━━━━\u001b[0m\u001b[37m\u001b[0m \u001b[1m0s\u001b[0m 462us/step - accuracy: 0.8557 - loss: 0.3316\n",
      "Epoch 38/70\n",
      "\u001b[1m399/399\u001b[0m \u001b[32m━━━━━━━━━━━━━━━━━━━━\u001b[0m\u001b[37m\u001b[0m \u001b[1m0s\u001b[0m 459us/step - accuracy: 0.8570 - loss: 0.3281\n",
      "Epoch 39/70\n",
      "\u001b[1m399/399\u001b[0m \u001b[32m━━━━━━━━━━━━━━━━━━━━\u001b[0m\u001b[37m\u001b[0m \u001b[1m0s\u001b[0m 483us/step - accuracy: 0.8553 - loss: 0.3332\n",
      "Epoch 40/70\n",
      "\u001b[1m399/399\u001b[0m \u001b[32m━━━━━━━━━━━━━━━━━━━━\u001b[0m\u001b[37m\u001b[0m \u001b[1m0s\u001b[0m 460us/step - accuracy: 0.8592 - loss: 0.3266\n",
      "Epoch 41/70\n",
      "\u001b[1m399/399\u001b[0m \u001b[32m━━━━━━━━━━━━━━━━━━━━\u001b[0m\u001b[37m\u001b[0m \u001b[1m0s\u001b[0m 474us/step - accuracy: 0.8609 - loss: 0.3268\n",
      "Epoch 42/70\n",
      "\u001b[1m399/399\u001b[0m \u001b[32m━━━━━━━━━━━━━━━━━━━━\u001b[0m\u001b[37m\u001b[0m \u001b[1m0s\u001b[0m 487us/step - accuracy: 0.8667 - loss: 0.3177\n",
      "Epoch 43/70\n",
      "\u001b[1m399/399\u001b[0m \u001b[32m━━━━━━━━━━━━━━━━━━━━\u001b[0m\u001b[37m\u001b[0m \u001b[1m0s\u001b[0m 463us/step - accuracy: 0.8641 - loss: 0.3201\n",
      "Epoch 44/70\n",
      "\u001b[1m399/399\u001b[0m \u001b[32m━━━━━━━━━━━━━━━━━━━━\u001b[0m\u001b[37m\u001b[0m \u001b[1m0s\u001b[0m 448us/step - accuracy: 0.8607 - loss: 0.3228\n",
      "Epoch 45/70\n",
      "\u001b[1m399/399\u001b[0m \u001b[32m━━━━━━━━━━━━━━━━━━━━\u001b[0m\u001b[37m\u001b[0m \u001b[1m0s\u001b[0m 480us/step - accuracy: 0.8663 - loss: 0.3157\n",
      "Epoch 46/70\n",
      "\u001b[1m399/399\u001b[0m \u001b[32m━━━━━━━━━━━━━━━━━━━━\u001b[0m\u001b[37m\u001b[0m \u001b[1m0s\u001b[0m 465us/step - accuracy: 0.8602 - loss: 0.3236\n",
      "Epoch 47/70\n",
      "\u001b[1m399/399\u001b[0m \u001b[32m━━━━━━━━━━━━━━━━━━━━\u001b[0m\u001b[37m\u001b[0m \u001b[1m0s\u001b[0m 447us/step - accuracy: 0.8684 - loss: 0.3069\n",
      "Epoch 48/70\n",
      "\u001b[1m399/399\u001b[0m \u001b[32m━━━━━━━━━━━━━━━━━━━━\u001b[0m\u001b[37m\u001b[0m \u001b[1m0s\u001b[0m 467us/step - accuracy: 0.8653 - loss: 0.3172\n",
      "Epoch 49/70\n",
      "\u001b[1m399/399\u001b[0m \u001b[32m━━━━━━━━━━━━━━━━━━━━\u001b[0m\u001b[37m\u001b[0m \u001b[1m0s\u001b[0m 459us/step - accuracy: 0.8638 - loss: 0.3225\n",
      "Epoch 50/70\n",
      "\u001b[1m399/399\u001b[0m \u001b[32m━━━━━━━━━━━━━━━━━━━━\u001b[0m\u001b[37m\u001b[0m \u001b[1m0s\u001b[0m 495us/step - accuracy: 0.8660 - loss: 0.3144\n",
      "Epoch 51/70\n",
      "\u001b[1m399/399\u001b[0m \u001b[32m━━━━━━━━━━━━━━━━━━━━\u001b[0m\u001b[37m\u001b[0m \u001b[1m0s\u001b[0m 535us/step - accuracy: 0.8707 - loss: 0.3118\n",
      "Epoch 52/70\n",
      "\u001b[1m399/399\u001b[0m \u001b[32m━━━━━━━━━━━━━━━━━━━━\u001b[0m\u001b[37m\u001b[0m \u001b[1m0s\u001b[0m 517us/step - accuracy: 0.8700 - loss: 0.3113\n",
      "Epoch 53/70\n",
      "\u001b[1m399/399\u001b[0m \u001b[32m━━━━━━━━━━━━━━━━━━━━\u001b[0m\u001b[37m\u001b[0m \u001b[1m0s\u001b[0m 503us/step - accuracy: 0.8627 - loss: 0.3165\n",
      "Epoch 54/70\n",
      "\u001b[1m399/399\u001b[0m \u001b[32m━━━━━━━━━━━━━━━━━━━━\u001b[0m\u001b[37m\u001b[0m \u001b[1m0s\u001b[0m 563us/step - accuracy: 0.8669 - loss: 0.3164\n",
      "Epoch 55/70\n",
      "\u001b[1m399/399\u001b[0m \u001b[32m━━━━━━━━━━━━━━━━━━━━\u001b[0m\u001b[37m\u001b[0m \u001b[1m0s\u001b[0m 524us/step - accuracy: 0.8626 - loss: 0.3139\n",
      "Epoch 56/70\n",
      "\u001b[1m399/399\u001b[0m \u001b[32m━━━━━━━━━━━━━━━━━━━━\u001b[0m\u001b[37m\u001b[0m \u001b[1m0s\u001b[0m 502us/step - accuracy: 0.8709 - loss: 0.3023\n",
      "Epoch 57/70\n",
      "\u001b[1m399/399\u001b[0m \u001b[32m━━━━━━━━━━━━━━━━━━━━\u001b[0m\u001b[37m\u001b[0m \u001b[1m0s\u001b[0m 483us/step - accuracy: 0.8673 - loss: 0.3113\n",
      "Epoch 58/70\n",
      "\u001b[1m399/399\u001b[0m \u001b[32m━━━━━━━━━━━━━━━━━━━━\u001b[0m\u001b[37m\u001b[0m \u001b[1m0s\u001b[0m 474us/step - accuracy: 0.8774 - loss: 0.2949\n",
      "Epoch 59/70\n",
      "\u001b[1m399/399\u001b[0m \u001b[32m━━━━━━━━━━━━━━━━━━━━\u001b[0m\u001b[37m\u001b[0m \u001b[1m0s\u001b[0m 486us/step - accuracy: 0.8631 - loss: 0.3140\n",
      "Epoch 60/70\n",
      "\u001b[1m399/399\u001b[0m \u001b[32m━━━━━━━━━━━━━━━━━━━━\u001b[0m\u001b[37m\u001b[0m \u001b[1m0s\u001b[0m 492us/step - accuracy: 0.8708 - loss: 0.3059\n",
      "Epoch 61/70\n",
      "\u001b[1m399/399\u001b[0m \u001b[32m━━━━━━━━━━━━━━━━━━━━\u001b[0m\u001b[37m\u001b[0m \u001b[1m0s\u001b[0m 486us/step - accuracy: 0.8700 - loss: 0.3055\n",
      "Epoch 62/70\n",
      "\u001b[1m399/399\u001b[0m \u001b[32m━━━━━━━━━━━━━━━━━━━━\u001b[0m\u001b[37m\u001b[0m \u001b[1m0s\u001b[0m 468us/step - accuracy: 0.8685 - loss: 0.3091\n",
      "Epoch 63/70\n",
      "\u001b[1m399/399\u001b[0m \u001b[32m━━━━━━━━━━━━━━━━━━━━\u001b[0m\u001b[37m\u001b[0m \u001b[1m0s\u001b[0m 459us/step - accuracy: 0.8693 - loss: 0.3061\n",
      "Epoch 64/70\n",
      "\u001b[1m399/399\u001b[0m \u001b[32m━━━━━━━━━━━━━━━━━━━━\u001b[0m\u001b[37m\u001b[0m \u001b[1m0s\u001b[0m 478us/step - accuracy: 0.8695 - loss: 0.3055\n",
      "Epoch 65/70\n",
      "\u001b[1m399/399\u001b[0m \u001b[32m━━━━━━━━━━━━━━━━━━━━\u001b[0m\u001b[37m\u001b[0m \u001b[1m0s\u001b[0m 474us/step - accuracy: 0.8703 - loss: 0.3051\n",
      "Epoch 66/70\n",
      "\u001b[1m399/399\u001b[0m \u001b[32m━━━━━━━━━━━━━━━━━━━━\u001b[0m\u001b[37m\u001b[0m \u001b[1m0s\u001b[0m 486us/step - accuracy: 0.8690 - loss: 0.3050\n",
      "Epoch 67/70\n",
      "\u001b[1m399/399\u001b[0m \u001b[32m━━━━━━━━━━━━━━━━━━━━\u001b[0m\u001b[37m\u001b[0m \u001b[1m0s\u001b[0m 458us/step - accuracy: 0.8709 - loss: 0.3026\n",
      "Epoch 68/70\n",
      "\u001b[1m399/399\u001b[0m \u001b[32m━━━━━━━━━━━━━━━━━━━━\u001b[0m\u001b[37m\u001b[0m \u001b[1m0s\u001b[0m 467us/step - accuracy: 0.8710 - loss: 0.3092\n",
      "Epoch 69/70\n",
      "\u001b[1m399/399\u001b[0m \u001b[32m━━━━━━━━━━━━━━━━━━━━\u001b[0m\u001b[37m\u001b[0m \u001b[1m0s\u001b[0m 457us/step - accuracy: 0.8739 - loss: 0.3003\n",
      "Epoch 70/70\n",
      "\u001b[1m399/399\u001b[0m \u001b[32m━━━━━━━━━━━━━━━━━━━━\u001b[0m\u001b[37m\u001b[0m \u001b[1m0s\u001b[0m 476us/step - accuracy: 0.8718 - loss: 0.3010\n"
     ]
    },
    {
     "data": {
      "text/plain": [
       "<keras.src.callbacks.history.History at 0x1e6f2695e80>"
      ]
     },
     "execution_count": 21,
     "metadata": {},
     "output_type": "execute_result"
    }
   ],
   "source": [
    "# Treinando o modelo com os dados de treinamento (X_train e y_train) por 100 épocas e usando lotes de 32 amostras por vez\n",
    "ann.fit(\n",
    "    X_train,  # Dados de entrada (features) para o treinamento.\n",
    "    y_train,  # Rótulos ou valores verdadeiros correspondentes às amostras de X_train.\n",
    "    batch_size = 32,  # O modelo será treinado usando lotes de 32 amostras por vez.\n",
    "    epochs = 70  # O modelo será treinado por 100 épocas (iterações completas sobre o conjunto de treinamento).\n",
    ")"
   ]
  },
  {
   "cell_type": "code",
   "execution_count": 22,
   "id": "4bee2b6c-b375-47ea-9fca-06b666a14b5a",
   "metadata": {},
   "outputs": [
    {
     "name": "stdout",
     "output_type": "stream",
     "text": [
      "\u001b[1m1/1\u001b[0m \u001b[32m━━━━━━━━━━━━━━━━━━━━\u001b[0m\u001b[37m\u001b[0m \u001b[1m0s\u001b[0m 35ms/step\n",
      "[[False]]\n"
     ]
    }
   ],
   "source": [
    "bob = np.array([[600,'France', \"Male\", 40, 3, 60000, 2, 1, 1, 50000]])\n",
    "bob[:, 2] = le.transform(bob[:, 2])\n",
    "bob = ct.transform(bob)\n",
    "bob[:, [0,3,4,5,6,9]] = sc.transform(bob[:, [0,3,4,5,6,9]])\n",
    "bob = bob.astype(float)\n",
    "print(ann.predict(bob)>0.5)"
   ]
  },
  {
   "cell_type": "code",
   "execution_count": 23,
   "id": "dc0323a7-4aa9-4dc2-aa03-344650950ef1",
   "metadata": {},
   "outputs": [
    {
     "name": "stdout",
     "output_type": "stream",
     "text": [
      "\u001b[1m100/100\u001b[0m \u001b[32m━━━━━━━━━━━━━━━━━━━━\u001b[0m\u001b[37m\u001b[0m \u001b[1m0s\u001b[0m 392us/step\n"
     ]
    }
   ],
   "source": [
    "from sklearn.metrics import confusion_matrix, ConfusionMatrixDisplay, accuracy_score\n",
    "y_pred = ann.predict(X_test)\n",
    "y_pred = (y_pred > 0.5)\n",
    "cm = confusion_matrix(y_test, y_pred)\n",
    "ac = accuracy_score(y_test, y_pred)"
   ]
  },
  {
   "cell_type": "code",
   "execution_count": 24,
   "id": "4f176a4d-e4e8-4b16-9249-e267a04ccaad",
   "metadata": {},
   "outputs": [
    {
     "data": {
      "image/png": "[encoded data removed]",
      "text/plain": [
       "<Figure size 640x480 with 2 Axes>"
      ]
     },
     "metadata": {},
     "output_type": "display_data"
    },
    {
     "name": "stdout",
     "output_type": "stream",
     "text": [
      "Acurácia: 86.19%\n"
     ]
    }
   ],
   "source": [
    "# Define os rótulos que serão exibidos na matriz de confusão\n",
    "labels = ['Ficou (0)', 'Saiu (1)']\n",
    "\n",
    "# Cria um objeto de exibição da matriz de confusão usando a matriz 'cm' e os rótulos especificados\n",
    "disp = ConfusionMatrixDisplay(confusion_matrix=cm, display_labels=labels)  # Substitui 0 e 1 pelos rótulos definidos\n",
    "\n",
    "# Cria uma nova figura e eixo para o gráfico da matriz de confusão\n",
    "fig, ax = plt.subplots()\n",
    "\n",
    "# Plota a matriz de confusão com a coloração azul\n",
    "disp.plot(cmap=plt.cm.Blues, ax=ax)\n",
    "\n",
    "# Move os rótulos do eixo x para a parte superior do gráfico\n",
    "ax.xaxis.set_ticks_position('top')  # Coloca os rótulos do eixo x na parte superior\n",
    "ax.xaxis.set_label_position('top')  # Coloca o rótulo do eixo x na parte superior\n",
    "\n",
    "# Rotaciona os rótulos do eixo x, se necessário, para melhor legibilidade\n",
    "plt.xticks(rotation=0)  # Rotaciona os rótulos se necessário\n",
    "\n",
    "# Define o título e os rótulos dos eixos\n",
    "plt.title(\"Saiu do Banco\")  # Título do gráfico\n",
    "plt.xlabel(\"Rótulos Previsto\")  # Rótulo do eixo X em português\n",
    "plt.ylabel(\"Rótulos Verdadeiros\")  # Rótulo do eixo Y em português\n",
    "\n",
    "# Exibe o gráfico da matriz de confusão\n",
    "plt.show()\n",
    "\n",
    "# Imprime a acurácia do modelo em formato percentual\n",
    "print(f\"Acurácia: {ac:.2%}\")"
   ]
  },
  {
   "cell_type": "code",
   "execution_count": null,
   "id": "55a1f3a3-0fde-4c8b-924e-452f4aa0f77b",
   "metadata": {},
   "outputs": [],
   "source": []
  }
 ],
 "metadata": {
  "kernelspec": {
   "display_name": "Python 3 (ipykernel)",
   "language": "python",
   "name": "python3"
  },
  "language_info": {
   "codemirror_mode": {
    "name": "ipython",
    "version": 3
   },
   "file_extension": ".py",
   "mimetype": "text/x-python",
   "name": "python",
   "nbconvert_exporter": "python",
   "pygments_lexer": "ipython3",
   "version": "3.12.4"
  }
 },
 "nbformat": 4,
 "nbformat_minor": 5
}
