{
 "cells": [
  {
   "cell_type": "code",
   "execution_count": 55,
   "id": "9decf610-16d0-4ff6-9b58-62757e3cfb6f",
   "metadata": {},
   "outputs": [],
   "source": [
    "import pandas as pd \n",
    "import matplotlib.pyplot as plt \n",
    "import numpy as np \n",
    "from apyori import apriori"
   ]
  },
  {
   "cell_type": "code",
   "execution_count": 57,
   "id": "42b083c0-0b73-4e7b-ac89-0f94b5f082ec",
   "metadata": {},
   "outputs": [],
   "source": [
    "# Carrega o arquivo CSV 'Market_Basket_Optimisation.csv' como um DataFrame, sem considerar um cabeçalho (header=None)\n",
    "dataset = pd.read_csv('Market_Basket_Optimisation.csv', header=None)\n",
    "\n",
    "# Inicializa uma lista vazia chamada 'transactions' para armazenar as transações\n",
    "transactions = []\n",
    "\n",
    "# Loop para percorrer todas as linhas do dataset\n",
    "for i in range(0, len(dataset)):\n",
    "    # Para cada linha (i), cria uma lista contendo os primeiros 20 itens da linha\n",
    "    # Convertendo cada valor para string (usando str()) para garantir que os itens sejam tratados como texto\n",
    "    transactions.append([str(dataset.values[i, j]) for j in range(0, 20)])\n",
    "\n",
    "# A lista 'transactions' agora contém todas as transações, onde cada transação é uma lista de 20 itens"
   ]
  },
  {
   "cell_type": "code",
   "execution_count": 60,
   "id": "29f084e9-06d3-4d6e-9d0b-ef5e10e41fd2",
   "metadata": {},
   "outputs": [],
   "source": [
    "# transactions: conjunto de dados transacionais, onde cada transação contém itens comprados juntos, por exemplo\n",
    "# min_support: suporte mínimo para considerar uma regra frequente (0.003 significa que a regra deve ocorrer em pelo menos 0.3% das transações)\n",
    "# min_confidence: confiança mínima exigida para uma regra de associação ser considerada (0.2 significa 20% de confiança)\n",
    "# min_lift: lift mínimo, que é a força da relação entre os itens (3 significa que a ocorrência conjunta dos itens deve ser 3 vezes maior do que se fossem independentes)\n",
    "# min_length e max_length: comprimento mínimo e máximo da regra. Aqui, estamos buscando pares de itens, então ambas são definidas como 2.\n",
    "rules = apriori(transactions = transactions, min_support = 0.003, min_confidence = 0.2, min_lift = 3, min_length = 2 , max_length = 2)"
   ]
  },
  {
   "cell_type": "code",
   "execution_count": null,
   "id": "4d025154-4412-43d6-bb75-1f1aaf81ff26",
   "metadata": {},
   "outputs": [],
   "source": []
  }
 ],
 "metadata": {
  "kernelspec": {
   "display_name": "Python 3 (ipykernel)",
   "language": "python",
   "name": "python3"
  },
  "language_info": {
   "codemirror_mode": {
    "name": "ipython",
    "version": 3
   },
   "file_extension": ".py",
   "mimetype": "text/x-python",
   "name": "python",
   "nbconvert_exporter": "python",
   "pygments_lexer": "ipython3",
   "version": "3.12.4"
  }
 },
 "nbformat": 4,
 "nbformat_minor": 5
}
