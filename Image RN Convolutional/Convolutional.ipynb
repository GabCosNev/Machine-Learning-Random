{
 "cells": [
  {
   "cell_type": "markdown",
   "id": "a0c0d449-5095-47b6-8c64-f66aeb4a3747",
   "metadata": {},
   "source": [
    "## Libraries"
   ]
  },
  {
   "cell_type": "code",
   "execution_count": 2,
   "id": "dee003cb-4a36-48af-be3e-5a1bc4be9c06",
   "metadata": {},
   "outputs": [],
   "source": [
    "import tensorflow as tf \n",
    "from tensorflow.keras.preprocessing.image import ImageDataGenerator"
   ]
  },
  {
   "cell_type": "markdown",
   "id": "6f0788d3-ab9e-4356-93ec-7a15bab03940",
   "metadata": {},
   "source": [
    "## Part 1 Data Preprocessing"
   ]
  },
  {
   "cell_type": "markdown",
   "id": "ab37f3ce-e713-4596-8b6f-d26d89f753c4",
   "metadata": {},
   "source": [
    "## Preprocessing the Training Set"
   ]
  },
  {
   "cell_type": "code",
   "execution_count": 5,
   "id": "5a288af5-bfc1-4488-8386-c8177e53961f",
   "metadata": {},
   "outputs": [
    {
     "name": "stdout",
     "output_type": "stream",
     "text": [
      "Found 8000 images belonging to 2 classes.\n"
     ]
    }
   ],
   "source": [
    "# Cria um gerador de imagens para dados de treinamento\n",
    "train_datagen = ImageDataGenerator(\n",
    "    rescale=1./255,         # Normaliza os valores dos pixels para o intervalo [0, 1]\n",
    "    shear_range=0.2,        # Aplica transformações de cisalhamento em até 20% nos eixos\n",
    "    zoom_range=0.2,         # Aplica zoom aleatório nas imagens (aumenta/diminui em até 20%)\n",
    "    horizontal_flip=True    # Permite espelhamento horizontal aleatório das imagens\n",
    ")\n",
    "\n",
    "# Cria um conjunto de dados de treinamento a partir de imagens organizadas em diretórios\n",
    "train_set = train_datagen.flow_from_directory(\n",
    "    'dataset/training_set/',  # Caminho para o diretório que contém as imagens de treinamento\n",
    "    target_size=(64, 64),     # Redimensiona todas as imagens para 64x64 pixels\n",
    "    batch_size=32,            # Número de imagens a serem processadas por vez (lote)\n",
    "    class_mode='binary'       # Define o tipo de classificação como binária (duas classes: 0 ou 1)\n",
    ")"
   ]
  },
  {
   "cell_type": "markdown",
   "id": "69aae7a5-5033-4a12-9bcd-fb504cfa8698",
   "metadata": {},
   "source": [
    "## Preprocessing the Test Set"
   ]
  },
  {
   "cell_type": "code",
   "execution_count": 7,
   "id": "1bd6679d-b3e8-4060-bf25-9972c9d47f8a",
   "metadata": {},
   "outputs": [
    {
     "name": "stdout",
     "output_type": "stream",
     "text": [
      "Found 2000 images belonging to 2 classes.\n"
     ]
    }
   ],
   "source": [
    "test_datagen = ImageDataGenerator(rescale = 1./255)\n",
    "test_set = train_datagen.flow_from_directory(\n",
    "    'dataset/test_set/',\n",
    "    target_size=(64, 64),     \n",
    "    batch_size=32,           \n",
    "    class_mode='binary'       \n",
    ")"
   ]
  },
  {
   "cell_type": "markdown",
   "id": "bfec26a5-5ebf-4c7f-a682-d8e19bcfd835",
   "metadata": {},
   "source": [
    "## Part 2 Bulding the CNN"
   ]
  },
  {
   "cell_type": "markdown",
   "id": "e78c3573-8651-4578-8ddc-8f5e9c762c3b",
   "metadata": {},
   "source": [
    "## Convolution Pooling Flattening"
   ]
  },
  {
   "cell_type": "code",
   "execution_count": 10,
   "id": "3421b689-bcfb-4fa0-8b92-7056c89e1d16",
   "metadata": {},
   "outputs": [],
   "source": [
    "cnn = tf.keras.models.Sequential([\n",
    "    \n",
    "    # Define a entrada do modelo: imagens de 64x64 pixels com 3 canais (RGB)\n",
    "    tf.keras.layers.Input(shape=(64, 64, 3)),\n",
    "    \n",
    "    # Primeira camada convolucional com 32 filtros e tamanho do kernel 3x3, ativação ReLU\n",
    "    tf.keras.layers.Conv2D(filters=32, kernel_size=3, activation='relu'),\n",
    "    \n",
    "    # Camada de pooling para reduzir a dimensionalidade espacial (downsampling) com janela 2x2\n",
    "    tf.keras.layers.MaxPool2D(pool_size=2, strides=2),\n",
    "    \n",
    "    # Segunda camada convolucional com 32 filtros e tamanho do kernel 3x3, ativação ReLU\n",
    "    tf.keras.layers.Conv2D(filters=32, kernel_size=3, activation='relu'),\n",
    "    \n",
    "    # Outra camada de pooling para reduzir ainda mais a dimensionalidade espacial\n",
    "    tf.keras.layers.MaxPool2D(pool_size=2, strides=2),\n",
    "    \n",
    "    # Camada de achatamento (flatten) para transformar os dados 2D em um vetor 1D\n",
    "    tf.keras.layers.Flatten(),\n",
    "    \n",
    "    # Camada totalmente conectada com 128 unidades e ativação ReLU\n",
    "    tf.keras.layers.Dense(units=128, activation='relu'),\n",
    "    \n",
    "    # Camada de saída com 1 unidade e ativação sigmoide para classificação binária\n",
    "    tf.keras.layers.Dense(units=1, activation='sigmoid')\n",
    "\n",
    "])"
   ]
  },
  {
   "cell_type": "markdown",
   "id": "b2fb9efa-71c9-4be5-8fa5-fb6ceea65d33",
   "metadata": {},
   "source": [
    "## Part 3 Traning the CNN"
   ]
  },
  {
   "cell_type": "code",
   "execution_count": 24,
   "id": "6b22c611-8f2e-4b2b-ba64-c69393c221f3",
   "metadata": {},
   "outputs": [],
   "source": [
    "cnn.compile( optimizer = 'adam', loss = 'binary_crossentropy', metrics = ['accuracy'])"
   ]
  },
  {
   "cell_type": "code",
   "execution_count": null,
   "id": "3a4cb24c-5b35-4f66-8edd-4f4ffb0d4486",
   "metadata": {},
   "outputs": [
    {
     "name": "stderr",
     "output_type": "stream",
     "text": [
      "C:\\Users\\Gabriel\\anaconda3\\Lib\\site-packages\\keras\\src\\trainers\\data_adapters\\py_dataset_adapter.py:121: UserWarning: Your `PyDataset` class should call `super().__init__(**kwargs)` in its constructor. `**kwargs` can include `workers`, `use_multiprocessing`, `max_queue_size`. Do not pass these arguments to `fit()`, as they will be ignored.\n",
      "  self._warn_if_super_not_called()\n"
     ]
    },
    {
     "name": "stdout",
     "output_type": "stream",
     "text": [
      "Epoch 1/25\n",
      "\u001b[1m129/250\u001b[0m \u001b[32m━━━━━━━━━━\u001b[0m\u001b[37m━━━━━━━━━━\u001b[0m \u001b[1m25s\u001b[0m 207ms/step - accuracy: 0.5209 - loss: 0.7014"
     ]
    }
   ],
   "source": [
    "cnn.fit(x = train_set, validation_data = test_set, epochs = 25)"
   ]
  },
  {
   "cell_type": "code",
   "execution_count": null,
   "id": "eaa2acb5-5bea-446e-a8c7-efe36449af52",
   "metadata": {},
   "outputs": [],
   "source": []
  }
 ],
 "metadata": {
  "kernelspec": {
   "display_name": "Python 3 (ipykernel)",
   "language": "python",
   "name": "python3"
  },
  "language_info": {
   "codemirror_mode": {
    "name": "ipython",
    "version": 3
   },
   "file_extension": ".py",
   "mimetype": "text/x-python",
   "name": "python",
   "nbconvert_exporter": "python",
   "pygments_lexer": "ipython3",
   "version": "3.12.4"
  }
 },
 "nbformat": 4,
 "nbformat_minor": 5
}
